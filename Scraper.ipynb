{
 "cells": [
  {
   "cell_type": "code",
   "execution_count": 7,
   "id": "07e73cfe-545f-4028-8f45-3139471ccdf4",
   "metadata": {},
   "outputs": [
    {
     "name": "stdin",
     "output_type": "stream",
     "text": [
      "Enter the search query:  pen\n",
      "Enter the number of images you want to download:  5\n"
     ]
    },
    {
     "name": "stdout",
     "output_type": "stream",
     "text": [
      "----------------------------------------------------\n",
      "Image 1 successfully downloaded and saved as 'pics/pen_1.jpg'\n",
      "Image 2 successfully downloaded and saved as 'pics/pen_2.jpg'\n",
      "Image 3 successfully downloaded and saved as 'pics/pen_3.jpg'\n",
      "Image 4 successfully downloaded and saved as 'pics/pen_4.jpg'\n",
      "An error occurred with image 5:\n"
     ]
    }
   ],
   "source": [
    "from selenium import webdriver\n",
    "from selenium.webdriver.edge.service import Service\n",
    "from selenium.webdriver.common.by import By\n",
    "import time\n",
    "import requests\n",
    "from PIL import Image\n",
    "from io import BytesIO\n",
    "import os\n",
    "\n",
    "# Update with path to your msedgedriver\n",
    "service = Service('C:/edgedriver_win64/msedgedriver.exe')\n",
    "wd = webdriver.Edge(service=service)\n",
    "\n",
    "query = input(\"Enter the search query: \")\n",
    "url = f\"https://www.google.com/search?q={query}&tbm=isch\"\n",
    "wd.get(url)\n",
    "\n",
    "# Pause to allow thumbnails to load\n",
    "time.sleep(5)\n",
    "\n",
    "# Ask user for the number of images to scrape\n",
    "num_images = int(input(\"Enter the number of images you want to download: \"))\n",
    "print('----------------------------------------------------')\n",
    "\n",
    "# Find all thumbnail images\n",
    "thumbnails = wd.find_elements(By.CLASS_NAME, \"mNsIhb\")\n",
    "\n",
    "# Validate the number of thumbnails\n",
    "if len(thumbnails) < num_images:\n",
    "    print(f\"Only {len(thumbnails)} thumbnails found. Adjusting number of images to download.\")\n",
    "    num_images = len(thumbnails)\n",
    "\n",
    "# Ensure the 'pics' folder exists\n",
    "folder_path = 'pics'\n",
    "if not os.path.exists(folder_path):\n",
    "    os.makedirs(folder_path)\n",
    "\n",
    "# Download images\n",
    "for i in range(num_images):\n",
    "    try:\n",
    "        # Click the thumbnail to open the full-size image\n",
    "        thumbnail = thumbnails[i]\n",
    "        wd.execute_script(\"arguments[0].scrollIntoView();\", thumbnail)\n",
    "        wd.execute_script(\"arguments[0].click();\", thumbnail)\n",
    "\n",
    "        # Pause to allow the larger image to load\n",
    "        time.sleep(5)\n",
    "\n",
    "        # Find the larger image and get its URL (update this selector as needed)\n",
    "        large_image = wd.find_element(By.CSS_SELECTOR, \"img.sFlh5c.FyHeAf.iPVvYb\")\n",
    "        image_src = large_image.get_attribute(\"src\")\n",
    "\n",
    "        # Download the image\n",
    "        response = requests.get(image_src)\n",
    "        if response.status_code == 200:\n",
    "            image = Image.open(BytesIO(response.content))\n",
    "            # Save image to 'pics' folder\n",
    "            image.save(f'{folder_path}/{query}_{i + 1}.jpg')\n",
    "            print(f\"Image {i + 1} successfully downloaded and saved as '{folder_path}/{query}_{i + 1}.jpg'\")\n",
    "        else:\n",
    "            print(f\"Failed to retrieve image {i + 1}. Status code: {response.status_code}\")\n",
    "\n",
    "        # Update the thumbnails list after downloading\n",
    "        thumbnails = wd.find_elements(By.CLASS_NAME, \"mNsIhb\")\n",
    "\n",
    "    except Exception as e:\n",
    "        # print(f\"An error occurred with image {i + 1}: {e}\")  # Uncomment if want to print the error\n",
    "        print(f\"An error occurred with image {i + 1}:\")\n",
    "        continue  # Move on to the next image\n"
   ]
  }
 ],
 "metadata": {
  "kernelspec": {
   "display_name": "Python 3 (ipykernel)",
   "language": "python",
   "name": "python3"
  },
  "language_info": {
   "codemirror_mode": {
    "name": "ipython",
    "version": 3
   },
   "file_extension": ".py",
   "mimetype": "text/x-python",
   "name": "python",
   "nbconvert_exporter": "python",
   "pygments_lexer": "ipython3",
   "version": "3.12.0"
  },
  "widgets": {
   "application/vnd.jupyter.widget-state+json": {
    "state": {},
    "version_major": 2,
    "version_minor": 0
   }
  }
 },
 "nbformat": 4,
 "nbformat_minor": 5
}
